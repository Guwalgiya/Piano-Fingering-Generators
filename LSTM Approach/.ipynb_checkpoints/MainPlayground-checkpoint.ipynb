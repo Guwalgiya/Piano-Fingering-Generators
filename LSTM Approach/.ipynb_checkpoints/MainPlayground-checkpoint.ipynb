{
 "cells": [
  {
   "cell_type": "markdown",
   "metadata": {},
   "source": [
    "Import system dependencies"
   ]
  },
  {
   "cell_type": "code",
   "execution_count": 1,
   "metadata": {},
   "outputs": [],
   "source": [
    "import sys\n",
    "import os\n",
    "sys.path.append('../')\n",
    "import statistics\n",
    "import numpy as np"
   ]
  },
  {
   "cell_type": "markdown",
   "metadata": {},
   "source": [
    "Import custom packages"
   ]
  },
  {
   "cell_type": "code",
   "execution_count": 2,
   "metadata": {
    "scrolled": true
   },
   "outputs": [
    {
     "name": "stderr",
     "output_type": "stream",
     "text": [
      "music21: Certain music21 functions might need the optional package matplotlib;\n",
      "                  if you run into errors, install it by following the instructions at\n",
      "                  http://mit.edu/music21/doc/installing/installAdditional.html\n"
     ]
    }
   ],
   "source": [
    "from Utils import shuffleDataset, SplitJPData, saveToPickle, loadFromPickle, SplitChopinData, SplitMozartData, SplitBachData\n",
    "from JPDataPreProcessing import toVectorTrainFormat, toVectorTestFormat, toInterleavedTrainFormat, toVectorFutureTrainFormat\n",
    "from TrainModel import trainModel\n",
    "from TestVectorModel import loadModel, testVecModelSave, testVecModelEval\n",
    "from EvaluateJPMethod import getScoresForDL, getScoresForHmm\n",
    "\n",
    "from ReferenceHMM import GetESTFingering\n",
    "from parameters import DATA_DIR, HMM_RES_DIR"
   ]
  },
  {
   "cell_type": "markdown",
   "metadata": {},
   "source": [
    "Split Dataset According to Composer"
   ]
  },
  {
   "cell_type": "code",
   "execution_count": 4,
   "metadata": {},
   "outputs": [],
   "source": [
    "train_files, test_files, hmm_res_files = SplitBachData(DATA_DIR)\n",
    "# train_files, test_files, hmm_res_files = SplitMozartData(DATA_DIR)\n",
    "# train_files, test_files, hmm_res_files = SplitBachData(DATA_DIR)"
   ]
  },
  {
   "cell_type": "markdown",
   "metadata": {},
   "source": [
    "Train all 3 model of reference HMM with the data splited above"
   ]
  },
  {
   "cell_type": "code",
   "execution_count": 5,
   "metadata": {},
   "outputs": [],
   "source": [
    "os.chdir('../ReferenceHMM')\n",
    "GetESTFingering.prepareInputList(train_files)\n",
    "GetESTFingering.trainHmm()"
   ]
  },
  {
   "cell_type": "markdown",
   "metadata": {},
   "source": [
    "Run trained HMM model, change GetESTFingering.FHMMx to swith models"
   ]
  },
  {
   "cell_type": "code",
   "execution_count": 8,
   "metadata": {},
   "outputs": [],
   "source": [
    "test_filenames = GetESTFingering.getFormattedTestFilenames(test_files)\n",
    "GetESTFingering.runHmm(test_filenames, GetESTFingering.FHMM1, default=False)\n",
    "GetESTFingering.convertToCsv(input_dir='ESTResults/selfTrained/'+GetESTFingering.FHMM1+'/', output_dir='JPESTResults/selfTrained/'+GetESTFingering.FHMM1+'/')"
   ]
  },
  {
   "cell_type": "markdown",
   "metadata": {},
   "source": [
    "move the files the to correct folders"
   ]
  },
  {
   "cell_type": "code",
   "execution_count": 10,
   "metadata": {},
   "outputs": [
    {
     "data": {
      "text/plain": [
       "'../Datasets/JPResDataset/FHMM3'"
      ]
     },
     "execution_count": 10,
     "metadata": {},
     "output_type": "execute_result"
    }
   ],
   "source": [
    "import shutil\n",
    "shutil.move('JPESTResults/selfTrained/FHMM1/', HMM_RES_DIR)\n",
    "shutil.move('JPESTResults/selfTrained/FHMM2/', HMM_RES_DIR)\n",
    "shutil.move('JPESTResults/selfTrained/FHMM3/', HMM_RES_DIR)"
   ]
  },
  {
   "cell_type": "markdown",
   "metadata": {},
   "source": [
    "Evaluate hmm model"
   ]
  },
  {
   "cell_type": "code",
   "execution_count": 12,
   "metadata": {},
   "outputs": [
    {
     "ename": "TypeError",
     "evalue": "getScoresForHmm() takes 2 positional arguments but 3 were given",
     "output_type": "error",
     "traceback": [
      "\u001b[0;31m---------------------------------------------------------------------------\u001b[0m",
      "\u001b[0;31mTypeError\u001b[0m                                 Traceback (most recent call last)",
      "\u001b[0;32m<ipython-input-12-e5553a7ea6c6>\u001b[0m in \u001b[0;36m<module>\u001b[0;34m\u001b[0m\n\u001b[0;32m----> 1\u001b[0;31m \u001b[0mgetScoresForHmm\u001b[0m\u001b[0;34m(\u001b[0m\u001b[0mtest_files\u001b[0m\u001b[0;34m,\u001b[0m \u001b[0mhmm_res_files\u001b[0m\u001b[0;34m,\u001b[0m \u001b[0mGetESTFingering\u001b[0m\u001b[0;34m.\u001b[0m\u001b[0mFHMM1\u001b[0m\u001b[0;34m)\u001b[0m\u001b[0;34m\u001b[0m\u001b[0;34m\u001b[0m\u001b[0m\n\u001b[0m",
      "\u001b[0;31mTypeError\u001b[0m: getScoresForHmm() takes 2 positional arguments but 3 were given"
     ]
    }
   ],
   "source": [
    "getScoresForHmm(test_files, hmm_res_files, GetESTFingering.FHMM1)"
   ]
  },
  {
   "cell_type": "markdown",
   "metadata": {},
   "source": [
    "Train DeepLearning model"
   ]
  },
  {
   "cell_type": "code",
   "execution_count": 13,
   "metadata": {},
   "outputs": [],
   "source": [
    "train_input_list, train_label_list = toVectorFutureTrainFormat(train_files, DATA_DIR)\n",
    "trainModel(train_input_list, train_label_list, num_epochs=8, batch_size=8)"
   ]
  },
  {
   "cell_type": "markdown",
   "metadata": {},
   "source": [
    "Eval DeepLearning model"
   ]
  },
  {
   "cell_type": "code",
   "execution_count": null,
   "metadata": {},
   "outputs": [],
   "source": [
    "model = loadModel()"
   ]
  },
  {
   "cell_type": "markdown",
   "metadata": {},
   "source": [
    "Evaluation of mulitple fingering for a single piece"
   ]
  },
  {
   "cell_type": "code",
   "execution_count": null,
   "metadata": {},
   "outputs": [],
   "source": [
    "getScoresForDL(test_files, hmm_res_files, model)"
   ]
  }
 ],
 "metadata": {
  "kernelspec": {
   "display_name": "tf-gpu",
   "language": "python",
   "name": "tf-gpu"
  },
  "language_info": {
   "codemirror_mode": {
    "name": "ipython",
    "version": 3
   },
   "file_extension": ".py",
   "mimetype": "text/x-python",
   "name": "python",
   "nbconvert_exporter": "python",
   "pygments_lexer": "ipython3",
   "version": "3.7.6"
  }
 },
 "nbformat": 4,
 "nbformat_minor": 2
}
